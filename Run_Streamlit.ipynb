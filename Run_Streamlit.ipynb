{
  "nbformat": 4,
  "nbformat_minor": 0,
  "metadata": {
    "colab": {
      "provenance": [],
      "collapsed_sections": [],
      "machine_shape": "hm",
      "mount_file_id": "1iHw4XIt5lNPq5WLREY98-xYBlI3hr7Uj",
      "authorship_tag": "ABX9TyMSqFfFfW8V2mPYClb9dXqN",
      "include_colab_link": true
    },
    "kernelspec": {
      "name": "python3",
      "display_name": "Python 3"
    },
    "language_info": {
      "name": "python"
    },
    "gpuClass": "standard"
  },
  "cells": [
    {
      "cell_type": "markdown",
      "metadata": {
        "id": "view-in-github",
        "colab_type": "text"
      },
      "source": [
        "<a href=\"https://colab.research.google.com/github/Seongwoong-sk/Airstrip_Safer/blob/main/Run_Streamlit.ipynb\" target=\"_parent\"><img src=\"https://colab.research.google.com/assets/colab-badge.svg\" alt=\"Open In Colab\"/></a>"
      ]
    },
    {
      "cell_type": "markdown",
      "source": [
        "# **Streamlit**"
      ],
      "metadata": {
        "id": "zud8oG6uHmUa"
      }
    },
    {
      "cell_type": "code",
      "execution_count": null,
      "metadata": {
        "id": "tnMVEOTFGpMV"
      },
      "outputs": [],
      "source": [
        "from google.colab import drive\n",
        "drive.mount('/content/drive')"
      ]
    },
    {
      "cell_type": "code",
      "source": [
        "# Libraries Install\n",
        "\n",
        "import sys\n",
        "sys.path.append('streamlit_setup.py 상위 디렉토리') \n",
        "\n",
        "from env import streamlit_setup"
      ],
      "metadata": {
        "id": "w4xS74D7h8VS"
      },
      "execution_count": null,
      "outputs": []
    },
    {
      "cell_type": "code",
      "source": [
        "# 토큰 등록\n",
        "# 개인 local에 맞는 토큰 주소 필요\n",
        "\n",
        "from pyngrok import ngrok\n",
        "ngrok.set_auth_token(\"개인 토큰 주소 입력\") #ngrok.com"
      ],
      "metadata": {
        "id": "P7te2rDsHI2Q",
        "colab": {
          "base_uri": "https://localhost:8080/"
        },
        "outputId": "cca0d7cc-f614-44c6-ac30-981d6330c0ab"
      },
      "execution_count": null,
      "outputs": [
        {
          "output_type": "stream",
          "name": "stdout",
          "text": []
        }
      ]
    },
    {
      "cell_type": "code",
      "source": [
        "# 백그라운드에 streamlit 실행\n",
        "\n",
        "url = ngrok.connect(port = '80')  # port 80 고정\n",
        "print(url)\n",
        "!streamlit run --server.port 80 /utils/streamlit.py >/dev/null"
      ],
      "metadata": {
        "id": "OWvXJA6_HcbP"
      },
      "execution_count": null,
      "outputs": []
    },
    {
      "cell_type": "code",
      "source": [
        "!ps"
      ],
      "metadata": {
        "id": "VsJgA24LHhvr"
      },
      "execution_count": null,
      "outputs": []
    },
    {
      "cell_type": "code",
      "source": [
        "# streamlit 종료 후 Process kill & ngrok kill 필수\n",
        "\n",
        "!kill [Process ID]\n",
        "ngrok.kill()"
      ],
      "metadata": {
        "id": "UyeZ_HuxHizG"
      },
      "execution_count": null,
      "outputs": []
    }
  ]
}