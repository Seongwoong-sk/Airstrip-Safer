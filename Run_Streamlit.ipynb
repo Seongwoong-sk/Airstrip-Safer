{
  "nbformat": 4,
  "nbformat_minor": 0,
  "metadata": {
    "colab": {
      "provenance": [],
      "collapsed_sections": [],
      "machine_shape": "hm"
    },
    "kernelspec": {
      "name": "python3",
      "display_name": "Python 3"
    },
    "language_info": {
      "name": "python"
    },
    "gpuClass": "standard"
  },
  "cells": [
    {
      "cell_type": "markdown",
      "source": [
        "# **Streamlit**"
      ],
      "metadata": {
        "id": "zud8oG6uHmUa"
      }
    },
    {
      "cell_type": "code",
      "execution_count": 1,
      "metadata": {
        "id": "tnMVEOTFGpMV",
        "colab": {
          "base_uri": "https://localhost:8080/"
        },
        "outputId": "8261b857-76a8-43a4-a898-cf8d026ecfaf"
      },
      "outputs": [
        {
          "output_type": "stream",
          "name": "stdout",
          "text": [
            "Mounted at /content/drive\n"
          ]
        }
      ],
      "source": [
        "from google.colab import drive\n",
        "drive.mount('/content/drive')"
      ]
    },
    {
      "cell_type": "code",
      "source": [
        "# Libraries Install\n",
        "\n",
        "import sys\n",
        "sys.path.append('/content/drive/MyDrive/Air_PY') # streamlit_setup.py 상위 디렉토리리\n",
        "\n",
        "from env import streamlit_setup"
      ],
      "metadata": {
        "colab": {
          "base_uri": "https://localhost:8080/"
        },
        "id": "w4xS74D7h8VS",
        "outputId": "3e3a8af6-d229-4604-86bb-775187a595ac"
      },
      "execution_count": 4,
      "outputs": [
        {
          "output_type": "stream",
          "name": "stdout",
          "text": [
            "1.11.0+cu113\n"
          ]
        }
      ]
    },
    {
      "cell_type": "code",
      "source": [
        "# 토큰 등록\n",
        "# 개인 local에 맞는 토큰 주소 필요요\n",
        "\n",
        "from pyngrok import ngrok\n",
        "ngrok.set_auth_token(\"2F4Td4lAHwCgqPE9MnJwjWUP8zC_6BNxaCbAriCSfAPfPf3oR\") #ngrok.com"
      ],
      "metadata": {
        "id": "P7te2rDsHI2Q",
        "colab": {
          "base_uri": "https://localhost:8080/"
        },
        "outputId": "cca0d7cc-f614-44c6-ac30-981d6330c0ab"
      },
      "execution_count": 5,
      "outputs": [
        {
          "output_type": "stream",
          "name": "stdout",
          "text": []
        }
      ]
    },
    {
      "cell_type": "code",
      "source": [
        "# 백그라운드에 streamlit 실행행\n",
        "\n",
        "%cd /content/\n",
        "url = ngrok.connect(port = '80')\n",
        "print(url)\n",
        "!streamlit run --server.port 80 /content/drive/MyDrive/Air_PY/utils/streamlit.py >/dev/null"
      ],
      "metadata": {
        "id": "OWvXJA6_HcbP"
      },
      "execution_count": null,
      "outputs": []
    },
    {
      "cell_type": "code",
      "source": [
        "!ps"
      ],
      "metadata": {
        "id": "VsJgA24LHhvr"
      },
      "execution_count": null,
      "outputs": []
    },
    {
      "cell_type": "code",
      "source": [
        "# streamlit 종료 후 Process kill & ngrok kill 필수\n",
        "\n",
        "!kill [Process ID]\n",
        "ngrok.kill()"
      ],
      "metadata": {
        "id": "UyeZ_HuxHizG"
      },
      "execution_count": null,
      "outputs": []
    }
  ]
} 
